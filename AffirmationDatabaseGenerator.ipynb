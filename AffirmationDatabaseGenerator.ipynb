{
 "cells": [
  {
   "cell_type": "markdown",
   "metadata": {},
   "source": [
    "Note: If you try to issue a DROP TABLE or DROP DATABASE command and psql seems to hang forever, it could be that PostgreSQL is waiting for current connections to close before proceeding with your command. To fix this, create a cell with the code conn.close() in your notebook and execute it. After the DROP commands have completed, make sure to run the cell containing the pg8000.connect() call again."
   ]
  },
  {
   "cell_type": "code",
   "execution_count": 59,
   "metadata": {
    "collapsed": false
   },
   "outputs": [],
   "source": [
    "conn.close()"
   ]
  },
  {
   "cell_type": "code",
   "execution_count": 60,
   "metadata": {
    "collapsed": false
   },
   "outputs": [],
   "source": [
    "quotes = [\n",
    "       {\"words\": \"there is you and you.\\nthis is a relationship.\\nthis is the most important relationship.\", \"source\": \"home\", \"author\": \"nayyirah waheed\", \"shownAlready\": False},\n",
    "        {\"words\":  \"Caring for myself is not self-indulgence, it is self-preservation, and that is an act of political warfare.\", \"source\": \"unknown\" , \"author\": \"Audre Lorde\", \"shownAlready\": False},\n",
    "        {\"words\": \"The sunlight isn't the only thing that makes me happy anymore now that I can endure my storms.\" ,\"source\": \"Words from a Wanderer\" , \"author\": \"Alex Elle\", \"shownAlready\": False},\n",
    "         {\"words\": \"Life is so amazing and ridiculous. It just makes you want to laugh out loud at all the things you thought would destroy you.\" ,\"source\": \"twitter\" , \"author\": \"Alysia Harris\", \"shownAlready\": False},\n",
    "{\"words\": \"The only way of finding the limits of the possible is by going beyond them into the impossible.\", \"author\": \"Arthur C Clarke\", \"source\": \"unknown\", \"shownAlready\": False},\n",
    "{\"words\": \"Out of suffering have emerged the strongest souls; the most massive characters are seared with scars.\", \"author\":\"Khalil Gibran\", \"source\": \"unknown\", \"shownAlready\": False},\n",
    "{\"words\":\"The reason we struggle with insecurity is because we compare our behind-the-scenes with everyone else’s highlight reel.\", \"author\": \"Unknown\", \"source\": \"unknown\", \"shownAlready\": False},\n",
    "{\"words\":\"Don't let your fears overwhelm your desire.\",\"author\": \"Unknown\", \"source\": \"unknown\", \"shownAlready\": False},\n",
    "  {\"words\": \"The moment you feel like you have to prove your worth to someone is the moment to absolutely and utterly walk away.\" ,\"source\": \"unknown\" , \"author\": \"Alysia Harris\", \"shownAlready\": False},\n",
    "    {\"words\": \"One day the universe will curl up beside you and begin to purr. Don't worry. You'll know exactly where to place your hands.\" ,\"source\": \"unknown\" , \"author\": \"Alysia Harris\", \"shownAlready\": False},\n",
    "       {\"words\": \"I love myself.\\nthe\\nquietest,\\nsimplest,\\nmost\\npowerful\\nrevolution\\never.\", \"source\": \"home\", \"author\": \"nayyirah waheed\", \"shownAlready\": False},\n",
    "           {\"words\": \"she is water\\n soft enough\\n to offer life\\n tough enough\\n to drown it away\", \"source\": \"unnown\", \"author\": \"rupi kaur\", \"shownAlready\": False}\n",
    "]\n",
    "         "
   ]
  },
  {
   "cell_type": "code",
   "execution_count": 61,
   "metadata": {
    "collapsed": false
   },
   "outputs": [
    {
     "name": "stdout",
     "output_type": "stream",
     "text": [
      "nayyirah waheed\n",
      "Audre Lorde\n",
      "Alex Elle\n",
      "Alysia Harris\n",
      "Arthur C Clarke\n",
      "Khalil Gibran\n",
      "Unknown\n",
      "Unknown\n",
      "Alysia Harris\n",
      "Alysia Harris\n",
      "nayyirah waheed\n",
      "rupi kaur\n"
     ]
    }
   ],
   "source": [
    "for quote in quotes:\n",
    "    print(quote['author'])"
   ]
  },
  {
   "cell_type": "code",
   "execution_count": 62,
   "metadata": {
    "collapsed": false
   },
   "outputs": [
    {
     "data": {
      "text/plain": [
       "[{'author': 'nayyirah waheed',\n",
       "  'shownAlready': False,\n",
       "  'source': 'home',\n",
       "  'words': 'there is you and you.\\nthis is a relationship.\\nthis is the most important relationship.'},\n",
       " {'author': 'Audre Lorde',\n",
       "  'shownAlready': False,\n",
       "  'source': 'unknown',\n",
       "  'words': 'Caring for myself is not self-indulgence, it is self-preservation, and that is an act of political warfare.'},\n",
       " {'author': 'Alex Elle',\n",
       "  'shownAlready': False,\n",
       "  'source': 'Words from a Wanderer',\n",
       "  'words': \"The sunlight isn't the only thing that makes me happy anymore now that I can endure my storms.\"},\n",
       " {'author': 'Alysia Harris',\n",
       "  'shownAlready': False,\n",
       "  'source': 'twitter',\n",
       "  'words': 'Life is so amazing and ridiculous. It just makes you want to laugh out loud at all the things you thought would destroy you.'},\n",
       " {'author': 'Arthur C Clarke',\n",
       "  'shownAlready': False,\n",
       "  'source': 'unknown',\n",
       "  'words': 'The only way of finding the limits of the possible is by going beyond them into the impossible.'},\n",
       " {'author': 'Khalil Gibran',\n",
       "  'shownAlready': False,\n",
       "  'source': 'unknown',\n",
       "  'words': 'Out of suffering have emerged the strongest souls; the most massive characters are seared with scars.'},\n",
       " {'author': 'Unknown',\n",
       "  'shownAlready': False,\n",
       "  'source': 'unknown',\n",
       "  'words': 'The reason we struggle with insecurity is because we compare our behind-the-scenes with everyone else’s highlight reel.'},\n",
       " {'author': 'Unknown',\n",
       "  'shownAlready': False,\n",
       "  'source': 'unknown',\n",
       "  'words': \"Don't let your fears overwhelm your desire.\"},\n",
       " {'author': 'Alysia Harris',\n",
       "  'shownAlready': False,\n",
       "  'source': 'unknown',\n",
       "  'words': 'The moment you feel like you have to prove your worth to someone is the moment to absolutely and utterly walk away.'},\n",
       " {'author': 'Alysia Harris',\n",
       "  'shownAlready': False,\n",
       "  'source': 'unknown',\n",
       "  'words': \"One day the universe will curl up beside you and begin to purr. Don't worry. You'll know exactly where to place your hands.\"},\n",
       " {'author': 'nayyirah waheed',\n",
       "  'shownAlready': False,\n",
       "  'source': 'home',\n",
       "  'words': 'I love myself.\\nthe\\nquietest,\\nsimplest,\\nmost\\npowerful\\nrevolution\\never.'},\n",
       " {'author': 'rupi kaur',\n",
       "  'shownAlready': False,\n",
       "  'source': 'unnown',\n",
       "  'words': 'she is water\\n soft enough\\n to offer life\\n tough enough\\n to drown it away'}]"
      ]
     },
     "execution_count": 62,
     "metadata": {},
     "output_type": "execute_result"
    }
   ],
   "source": [
    "quotes"
   ]
  },
  {
   "cell_type": "markdown",
   "metadata": {},
   "source": [
    "In psql CREATE DATABASE affirmations;"
   ]
  },
  {
   "cell_type": "code",
   "execution_count": 63,
   "metadata": {
    "collapsed": false
   },
   "outputs": [],
   "source": [
    "import pg8000\n",
    "conn = pg8000.connect(database=\"affirmations\", user=\"Monica\")"
   ]
  },
  {
   "cell_type": "code",
   "execution_count": 64,
   "metadata": {
    "collapsed": false
   },
   "outputs": [],
   "source": [
    "conn.rollback()"
   ]
  },
  {
   "cell_type": "code",
   "execution_count": 65,
   "metadata": {
    "collapsed": true
   },
   "outputs": [],
   "source": [
    "cursor = conn.cursor()"
   ]
  },
  {
   "cell_type": "code",
   "execution_count": 57,
   "metadata": {
    "collapsed": false
   },
   "outputs": [
    {
     "ename": "ProgrammingError",
     "evalue": "('ERROR', '25P02', 'current transaction is aborted, commands ignored until end of transaction block', 'postgres.c', '1315', 'exec_parse_message', '', '')",
     "output_type": "error",
     "traceback": [
      "\u001b[0;31m---------------------------------------------------------------------------\u001b[0m",
      "\u001b[0;31mKeyError\u001b[0m                                  Traceback (most recent call last)",
      "\u001b[0;32m/Users/Monica/.virtualenvs/ddb/lib/python3.5/site-packages/pg8000/core.py\u001b[0m in \u001b[0;36mexecute\u001b[0;34m(self, cursor, operation, vals)\u001b[0m\n\u001b[1;32m   1890\u001b[0m         \u001b[0;32mtry\u001b[0m\u001b[0;34m:\u001b[0m\u001b[0;34m\u001b[0m\u001b[0m\n\u001b[0;32m-> 1891\u001b[0;31m             \u001b[0mps\u001b[0m \u001b[0;34m=\u001b[0m \u001b[0mcache\u001b[0m\u001b[0;34m[\u001b[0m\u001b[0;34m'ps'\u001b[0m\u001b[0;34m]\u001b[0m\u001b[0;34m[\u001b[0m\u001b[0mkey\u001b[0m\u001b[0;34m]\u001b[0m\u001b[0;34m\u001b[0m\u001b[0m\n\u001b[0m\u001b[1;32m   1892\u001b[0m             \u001b[0mcursor\u001b[0m\u001b[0;34m.\u001b[0m\u001b[0mps\u001b[0m \u001b[0;34m=\u001b[0m \u001b[0mps\u001b[0m\u001b[0;34m\u001b[0m\u001b[0m\n",
      "\u001b[0;31mKeyError\u001b[0m: ('CREATE TABLE quotes (id serial, words varchar(300), author_downcase varchar(40), author_original varchar(40), shownAlready boolean, source varchar(40))', ())",
      "\nDuring handling of the above exception, another exception occurred:\n",
      "\u001b[0;31mProgrammingError\u001b[0m                          Traceback (most recent call last)",
      "\u001b[0;32m<ipython-input-57-53f5c72b5ff0>\u001b[0m in \u001b[0;36m<module>\u001b[0;34m()\u001b[0m\n\u001b[1;32m      1\u001b[0m \u001b[0mcursor\u001b[0m \u001b[0;34m=\u001b[0m \u001b[0mconn\u001b[0m\u001b[0;34m.\u001b[0m\u001b[0mcursor\u001b[0m\u001b[0;34m(\u001b[0m\u001b[0;34m)\u001b[0m\u001b[0;34m\u001b[0m\u001b[0m\n\u001b[0;32m----> 2\u001b[0;31m \u001b[0mcursor\u001b[0m\u001b[0;34m.\u001b[0m\u001b[0mexecute\u001b[0m\u001b[0;34m(\u001b[0m\u001b[0;34m\"\"\"CREATE TABLE quotes (id serial, words varchar(300), author_downcase varchar(40), author_original varchar(40), shownAlready boolean, source varchar(40))\"\"\"\u001b[0m\u001b[0;34m)\u001b[0m\u001b[0;34m\u001b[0m\u001b[0m\n\u001b[0m\u001b[1;32m      3\u001b[0m \u001b[0mconn\u001b[0m\u001b[0;34m.\u001b[0m\u001b[0mcommit\u001b[0m\u001b[0;34m(\u001b[0m\u001b[0;34m)\u001b[0m\u001b[0;34m\u001b[0m\u001b[0m\n",
      "\u001b[0;32m/Users/Monica/.virtualenvs/ddb/lib/python3.5/site-packages/pg8000/core.py\u001b[0m in \u001b[0;36mexecute\u001b[0;34m(self, operation, args, stream)\u001b[0m\n\u001b[1;32m    904\u001b[0m                 \u001b[0;32mif\u001b[0m \u001b[0;32mnot\u001b[0m \u001b[0mself\u001b[0m\u001b[0;34m.\u001b[0m\u001b[0m_c\u001b[0m\u001b[0;34m.\u001b[0m\u001b[0min_transaction\u001b[0m \u001b[0;32mand\u001b[0m \u001b[0;32mnot\u001b[0m \u001b[0mself\u001b[0m\u001b[0;34m.\u001b[0m\u001b[0m_c\u001b[0m\u001b[0;34m.\u001b[0m\u001b[0mautocommit\u001b[0m\u001b[0;34m:\u001b[0m\u001b[0;34m\u001b[0m\u001b[0m\n\u001b[1;32m    905\u001b[0m                     \u001b[0mself\u001b[0m\u001b[0;34m.\u001b[0m\u001b[0m_c\u001b[0m\u001b[0;34m.\u001b[0m\u001b[0mexecute\u001b[0m\u001b[0;34m(\u001b[0m\u001b[0mself\u001b[0m\u001b[0;34m,\u001b[0m \u001b[0;34m\"begin transaction\"\u001b[0m\u001b[0;34m,\u001b[0m \u001b[0;32mNone\u001b[0m\u001b[0;34m)\u001b[0m\u001b[0;34m\u001b[0m\u001b[0m\n\u001b[0;32m--> 906\u001b[0;31m                 \u001b[0mself\u001b[0m\u001b[0;34m.\u001b[0m\u001b[0m_c\u001b[0m\u001b[0;34m.\u001b[0m\u001b[0mexecute\u001b[0m\u001b[0;34m(\u001b[0m\u001b[0mself\u001b[0m\u001b[0;34m,\u001b[0m \u001b[0moperation\u001b[0m\u001b[0;34m,\u001b[0m \u001b[0margs\u001b[0m\u001b[0;34m)\u001b[0m\u001b[0;34m\u001b[0m\u001b[0m\n\u001b[0m\u001b[1;32m    907\u001b[0m         \u001b[0;32mexcept\u001b[0m \u001b[0mAttributeError\u001b[0m \u001b[0;32mas\u001b[0m \u001b[0me\u001b[0m\u001b[0;34m:\u001b[0m\u001b[0;34m\u001b[0m\u001b[0m\n\u001b[1;32m    908\u001b[0m             \u001b[0;32mif\u001b[0m \u001b[0mself\u001b[0m\u001b[0;34m.\u001b[0m\u001b[0m_c\u001b[0m \u001b[0;32mis\u001b[0m \u001b[0;32mNone\u001b[0m\u001b[0;34m:\u001b[0m\u001b[0;34m\u001b[0m\u001b[0m\n",
      "\u001b[0;32m/Users/Monica/.virtualenvs/ddb/lib/python3.5/site-packages/pg8000/core.py\u001b[0m in \u001b[0;36mexecute\u001b[0;34m(self, cursor, operation, vals)\u001b[0m\n\u001b[1;32m   1938\u001b[0m                 \u001b[0;32mraise\u001b[0m \u001b[0mOperationalError\u001b[0m\u001b[0;34m(\u001b[0m\u001b[0mstr\u001b[0m\u001b[0;34m(\u001b[0m\u001b[0me\u001b[0m\u001b[0;34m)\u001b[0m\u001b[0;34m)\u001b[0m\u001b[0;34m\u001b[0m\u001b[0m\n\u001b[1;32m   1939\u001b[0m \u001b[0;34m\u001b[0m\u001b[0m\n\u001b[0;32m-> 1940\u001b[0;31m             \u001b[0mself\u001b[0m\u001b[0;34m.\u001b[0m\u001b[0mhandle_messages\u001b[0m\u001b[0;34m(\u001b[0m\u001b[0mcursor\u001b[0m\u001b[0;34m)\u001b[0m\u001b[0;34m\u001b[0m\u001b[0m\n\u001b[0m\u001b[1;32m   1941\u001b[0m \u001b[0;34m\u001b[0m\u001b[0m\n\u001b[1;32m   1942\u001b[0m             \u001b[0;31m# We've got row_desc that allows us to identify what we're\u001b[0m\u001b[0;34m\u001b[0m\u001b[0;34m\u001b[0m\u001b[0m\n",
      "\u001b[0;32m/Users/Monica/.virtualenvs/ddb/lib/python3.5/site-packages/pg8000/core.py\u001b[0m in \u001b[0;36mhandle_messages\u001b[0;34m(self, cursor)\u001b[0m\n\u001b[1;32m   2086\u001b[0m \u001b[0;34m\u001b[0m\u001b[0m\n\u001b[1;32m   2087\u001b[0m         \u001b[0;32mif\u001b[0m \u001b[0mself\u001b[0m\u001b[0;34m.\u001b[0m\u001b[0merror\u001b[0m \u001b[0;32mis\u001b[0m \u001b[0;32mnot\u001b[0m \u001b[0;32mNone\u001b[0m\u001b[0;34m:\u001b[0m\u001b[0;34m\u001b[0m\u001b[0m\n\u001b[0;32m-> 2088\u001b[0;31m             \u001b[0;32mraise\u001b[0m \u001b[0mself\u001b[0m\u001b[0;34m.\u001b[0m\u001b[0merror\u001b[0m\u001b[0;34m\u001b[0m\u001b[0m\n\u001b[0m\u001b[1;32m   2089\u001b[0m \u001b[0;34m\u001b[0m\u001b[0m\n\u001b[1;32m   2090\u001b[0m     \u001b[0;31m# Byte1('C') - Identifies the message as a close command.\u001b[0m\u001b[0;34m\u001b[0m\u001b[0;34m\u001b[0m\u001b[0m\n",
      "\u001b[0;31mProgrammingError\u001b[0m: ('ERROR', '25P02', 'current transaction is aborted, commands ignored until end of transaction block', 'postgres.c', '1315', 'exec_parse_message', '', '')"
     ]
    }
   ],
   "source": [
    "cursor = conn.cursor()\n",
    "cursor.execute(\"\"\"CREATE TABLE quotes (id serial, words varchar(300), author_downcase varchar(40), author_original varchar(40), shownAlready boolean, source varchar(40))\"\"\")\n",
    "conn.commit()"
   ]
  },
  {
   "cell_type": "code",
   "execution_count": 66,
   "metadata": {
    "collapsed": false
   },
   "outputs": [],
   "source": [
    "for quote in quotes:\n",
    "    cursor.execute(\"INSERT INTO quotes (author_downcase, author_original, words, shownAlready, source) VALUES (%s, %s, %s, %s, %s) RETURNING id\",\n",
    "                  [(str(quote['author']).lower()), str(quote['author']), str(quote['words']),quote['shownAlready'], str(quote['source']) ])\n",
    "    \n",
    "conn.commit()    "
   ]
  },
  {
   "cell_type": "code",
   "execution_count": 39,
   "metadata": {
    "collapsed": false
   },
   "outputs": [],
   "source": [
    " #  this query returns quotes from Alysia Harris\n",
    "# SELECT words from quotes where author = 'Alysia Harris'"
   ]
  },
  {
   "cell_type": "code",
   "execution_count": 40,
   "metadata": {
    "collapsed": true
   },
   "outputs": [],
   "source": [
    "# return quotes with unknown authors\n",
    "# SELECT words from quotes where author = 'Unknown';\n"
   ]
  },
  {
   "cell_type": "code",
   "execution_count": null,
   "metadata": {
    "collapsed": true
   },
   "outputs": [],
   "source": [
    "for quote in quotes:"
   ]
  }
 ],
 "metadata": {
  "kernelspec": {
   "display_name": "Python 3",
   "language": "python",
   "name": "python3"
  }
 },
 "nbformat": 4,
 "nbformat_minor": 0
}
