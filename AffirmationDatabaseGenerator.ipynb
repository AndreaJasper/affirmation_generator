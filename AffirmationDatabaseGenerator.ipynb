{
 "cells": [
  {
   "cell_type": "markdown",
   "metadata": {
    "deletable": true,
    "editable": true
   },
   "source": [
    "Note: If you try to issue a DROP TABLE or DROP DATABASE command and psql seems to hang forever, it could be that PostgreSQL is waiting for current connections to close before proceeding with your command. To fix this, create a cell with the code conn.close() in your notebook and execute it. After the DROP commands have completed, make sure to run the cell containing the pg8000.connect() call again."
   ]
  },
  {
   "cell_type": "code",
   "execution_count": 46,
   "metadata": {
    "collapsed": false,
    "deletable": true,
    "editable": true
   },
   "outputs": [],
   "source": [
    "conn.close()"
   ]
  },
  {
   "cell_type": "code",
   "execution_count": 1,
   "metadata": {
    "collapsed": false,
    "deletable": true,
    "editable": true
   },
   "outputs": [],
   "source": [
    "quotes = [{\"words\": \"I will not bow down to somebody else's whim or to someone else's ignorance.\", \"source\": \"unknown\", \"author\": \"bell hooks\", \"shownAlready\": False},\n",
    "       {\"words\": \"there is you and you.\\nthis is a relationship.\\nthis is the most important relationship.\", \"source\": \"home\", \"author\": \"nayyirah waheed\", \"shownAlready\": False},\n",
    "        {\"words\":  \"Caring for myself is not self-indulgence, it is self-preservation, and that is an act of political warfare.\", \"source\": \"unknown\" , \"author\": \"Audre Lorde\", \"shownAlready\": False},\n",
    "        {\"words\": \"The sunlight isn't the only thing that makes me happy anymore now that I can endure my storms.\" ,\"source\": \"Words from a Wanderer\" , \"author\": \"Alex Elle\", \"shownAlready\": False},\n",
    "         {\"words\": \"Life is so amazing and ridiculous. It just makes you want to laugh out loud at all the things you thought would destroy you.\" ,\"source\": \"twitter\" , \"author\": \"Alysia Harris\", \"shownAlready\": False},\n",
    "{\"words\": \"The only way of finding the limits of the possible is by going beyond them into the impossible.\", \"author\": \"Arthur C Clarke\", \"source\": \"unknown\", \"shownAlready\": False},\n",
    "{\"words\": \"Out of suffering have emerged the strongest souls; the most massive characters are seared with scars.\", \"author\":\"Khalil Gibran\", \"source\": \"unknown\", \"shownAlready\": False},\n",
    "{\"words\":\"The reason we struggle with insecurity is because we compare our behind-the-scenes with everyone else’s highlight reel.\", \"author\": \"Unknown\", \"source\": \"unknown\", \"shownAlready\": False},\n",
    "{\"words\":\"Don't let your fears overwhelm your desire.\",\"author\": \"Unknown\", \"source\": \"unknown\", \"shownAlready\": False},\n",
    "  {\"words\": \"The moment you feel like you have to prove your worth to someone is the moment to absolutely and utterly walk away.\" ,\"source\": \"unknown\" , \"author\": \"Alysia Harris\", \"shownAlready\": False},\n",
    "    {\"words\": \"One day the universe will curl up beside you and begin to purr. Don't worry. You'll know exactly where to place your hands.\" ,\"source\": \"unknown\" , \"author\": \"Alysia Harris\", \"shownAlready\": False},\n",
    "       {\"words\": \"I love myself.\\nthe\\nquietest,\\nsimplest,\\nmost\\npowerful\\nrevolution\\never.\", \"source\": \"home\", \"author\": \"nayyirah waheed\", \"shownAlready\": False},\n",
    "           {\"words\": \"she is water\\n soft enough\\n to offer life\\n tough enough\\n to drown it away\", \"source\": \"unnown\", \"author\": \"rupi kaur\", \"shownAlready\": False}\n",
    "]\n",
    "         "
   ]
  },
  {
   "cell_type": "code",
   "execution_count": 2,
   "metadata": {
    "collapsed": false,
    "deletable": true,
    "editable": true
   },
   "outputs": [
    {
     "name": "stdout",
     "output_type": "stream",
     "text": [
      "bell hooks\n",
      "nayyirah waheed\n",
      "Audre Lorde\n",
      "Alex Elle\n",
      "Alysia Harris\n",
      "Arthur C Clarke\n",
      "Khalil Gibran\n",
      "Unknown\n",
      "Unknown\n",
      "Alysia Harris\n",
      "Alysia Harris\n",
      "nayyirah waheed\n",
      "rupi kaur\n"
     ]
    }
   ],
   "source": [
    "for quote in quotes:\n",
    "    print(quote['author'])"
   ]
  },
  {
   "cell_type": "code",
   "execution_count": 3,
   "metadata": {
    "collapsed": false,
    "deletable": true,
    "editable": true
   },
   "outputs": [
    {
     "data": {
      "text/plain": [
       "[{'author': 'bell hooks',\n",
       "  'shownAlready': False,\n",
       "  'source': 'unknown',\n",
       "  'words': \"I will not bow down to somebody else's whim or to someone else's ignorance.\"},\n",
       " {'author': 'nayyirah waheed',\n",
       "  'shownAlready': False,\n",
       "  'source': 'home',\n",
       "  'words': 'there is you and you.\\nthis is a relationship.\\nthis is the most important relationship.'},\n",
       " {'author': 'Audre Lorde',\n",
       "  'shownAlready': False,\n",
       "  'source': 'unknown',\n",
       "  'words': 'Caring for myself is not self-indulgence, it is self-preservation, and that is an act of political warfare.'},\n",
       " {'author': 'Alex Elle',\n",
       "  'shownAlready': False,\n",
       "  'source': 'Words from a Wanderer',\n",
       "  'words': \"The sunlight isn't the only thing that makes me happy anymore now that I can endure my storms.\"},\n",
       " {'author': 'Alysia Harris',\n",
       "  'shownAlready': False,\n",
       "  'source': 'twitter',\n",
       "  'words': 'Life is so amazing and ridiculous. It just makes you want to laugh out loud at all the things you thought would destroy you.'},\n",
       " {'author': 'Arthur C Clarke',\n",
       "  'shownAlready': False,\n",
       "  'source': 'unknown',\n",
       "  'words': 'The only way of finding the limits of the possible is by going beyond them into the impossible.'},\n",
       " {'author': 'Khalil Gibran',\n",
       "  'shownAlready': False,\n",
       "  'source': 'unknown',\n",
       "  'words': 'Out of suffering have emerged the strongest souls; the most massive characters are seared with scars.'},\n",
       " {'author': 'Unknown',\n",
       "  'shownAlready': False,\n",
       "  'source': 'unknown',\n",
       "  'words': 'The reason we struggle with insecurity is because we compare our behind-the-scenes with everyone else’s highlight reel.'},\n",
       " {'author': 'Unknown',\n",
       "  'shownAlready': False,\n",
       "  'source': 'unknown',\n",
       "  'words': \"Don't let your fears overwhelm your desire.\"},\n",
       " {'author': 'Alysia Harris',\n",
       "  'shownAlready': False,\n",
       "  'source': 'unknown',\n",
       "  'words': 'The moment you feel like you have to prove your worth to someone is the moment to absolutely and utterly walk away.'},\n",
       " {'author': 'Alysia Harris',\n",
       "  'shownAlready': False,\n",
       "  'source': 'unknown',\n",
       "  'words': \"One day the universe will curl up beside you and begin to purr. Don't worry. You'll know exactly where to place your hands.\"},\n",
       " {'author': 'nayyirah waheed',\n",
       "  'shownAlready': False,\n",
       "  'source': 'home',\n",
       "  'words': 'I love myself.\\nthe\\nquietest,\\nsimplest,\\nmost\\npowerful\\nrevolution\\never.'},\n",
       " {'author': 'rupi kaur',\n",
       "  'shownAlready': False,\n",
       "  'source': 'unnown',\n",
       "  'words': 'she is water\\n soft enough\\n to offer life\\n tough enough\\n to drown it away'}]"
      ]
     },
     "execution_count": 3,
     "metadata": {},
     "output_type": "execute_result"
    }
   ],
   "source": [
    "quotes"
   ]
  },
  {
   "cell_type": "markdown",
   "metadata": {
    "deletable": true,
    "editable": true
   },
   "source": [
    "In psql CREATE DATABASE affirmations;"
   ]
  },
  {
   "cell_type": "code",
   "execution_count": 4,
   "metadata": {
    "collapsed": false,
    "deletable": true,
    "editable": true,
    "scrolled": true
   },
   "outputs": [],
   "source": [
    "import pg8000\n",
    "conn = pg8000.connect(database=\"affirmations\", user=\"monica\")"
   ]
  },
  {
   "cell_type": "code",
   "execution_count": 5,
   "metadata": {
    "collapsed": false,
    "deletable": true,
    "editable": true
   },
   "outputs": [],
   "source": [
    "conn.rollback()"
   ]
  },
  {
   "cell_type": "code",
   "execution_count": 6,
   "metadata": {
    "collapsed": true,
    "deletable": true,
    "editable": true
   },
   "outputs": [],
   "source": [
    "cursor = conn.cursor()"
   ]
  },
  {
   "cell_type": "code",
   "execution_count": 7,
   "metadata": {
    "collapsed": false,
    "deletable": true,
    "editable": true
   },
   "outputs": [],
   "source": [
    "cursor = conn.cursor()\n",
    "cursor.execute(\"\"\"CREATE TABLE quotes (id serial, words varchar(300), author_downcase varchar(40), author_original varchar(40), shownAlready boolean, source varchar(40))\"\"\")\n",
    "conn.commit()"
   ]
  },
  {
   "cell_type": "code",
   "execution_count": 8,
   "metadata": {
    "collapsed": false,
    "deletable": true,
    "editable": true
   },
   "outputs": [],
   "source": [
    "for quote in quotes:\n",
    "    cursor.execute(\"INSERT INTO quotes (author_downcase, author_original, words, shownAlready, source) VALUES (%s, %s, %s, %s, %s) RETURNING id\",\n",
    "                  [(str(quote['author']).lower()), str(quote['author']), str(quote['words']),quote['shownAlready'], str(quote['source']) ])\n",
    "    \n",
    "conn.commit()    "
   ]
  },
  {
   "cell_type": "code",
   "execution_count": 39,
   "metadata": {
    "collapsed": false,
    "deletable": true,
    "editable": true
   },
   "outputs": [],
   "source": [
    " #  this query returns quotes from Alysia Harris\n",
    "# SELECT words from quotes where author = 'Alysia Harris'"
   ]
  },
  {
   "cell_type": "code",
   "execution_count": 40,
   "metadata": {
    "collapsed": true,
    "deletable": true,
    "editable": true
   },
   "outputs": [],
   "source": [
    "# return quotes with unknown authors\n",
    "# SELECT words from quotes where author = 'Unknown';\n"
   ]
  },
  {
   "cell_type": "code",
   "execution_count": null,
   "metadata": {
    "collapsed": true,
    "deletable": true,
    "editable": true
   },
   "outputs": [],
   "source": [
    "for quote in quotes:"
   ]
  }
 ],
 "metadata": {
  "kernelspec": {
   "display_name": "Python 3",
   "language": "python",
   "name": "python3"
  },
  "language_info": {
   "codemirror_mode": {
    "name": "ipython",
    "version": 3
   },
   "file_extension": ".py",
   "mimetype": "text/x-python",
   "name": "python",
   "nbconvert_exporter": "python",
   "pygments_lexer": "ipython3",
   "version": "3.6.0"
  }
 },
 "nbformat": 4,
 "nbformat_minor": 0
}
